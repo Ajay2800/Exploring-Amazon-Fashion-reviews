{
  "nbformat": 4,
  "nbformat_minor": 0,
  "metadata": {
    "colab": {
      "provenance": []
    },
    "kernelspec": {
      "name": "python3",
      "display_name": "Python 3"
    },
    "language_info": {
      "name": "python"
    }
  },
  "cells": [
    {
      "cell_type": "code",
      "source": [
        "!pip install pyLDAvis\n"
      ],
      "metadata": {
        "colab": {
          "base_uri": "https://localhost:8080/"
        },
        "id": "1xiuNQVTx3uA",
        "outputId": "d4212306-e1ab-428a-ba49-031e29f6ac9a"
      },
      "execution_count": null,
      "outputs": [
        {
          "output_type": "stream",
          "name": "stdout",
          "text": [
            "Collecting pyLDAvis\n",
            "  Downloading pyLDAvis-3.4.1-py3-none-any.whl (2.6 MB)\n",
            "\u001b[2K     \u001b[90m━━━━━━━━━━━━━━━━━━━━━━━━━━━━━━━━━━━━━━━━\u001b[0m \u001b[32m2.6/2.6 MB\u001b[0m \u001b[31m12.5 MB/s\u001b[0m eta \u001b[36m0:00:00\u001b[0m\n",
            "\u001b[?25hRequirement already satisfied: numpy>=1.24.2 in /usr/local/lib/python3.10/dist-packages (from pyLDAvis) (1.25.2)\n",
            "Requirement already satisfied: scipy in /usr/local/lib/python3.10/dist-packages (from pyLDAvis) (1.11.4)\n",
            "Requirement already satisfied: pandas>=2.0.0 in /usr/local/lib/python3.10/dist-packages (from pyLDAvis) (2.0.3)\n",
            "Requirement already satisfied: joblib>=1.2.0 in /usr/local/lib/python3.10/dist-packages (from pyLDAvis) (1.4.0)\n",
            "Requirement already satisfied: jinja2 in /usr/local/lib/python3.10/dist-packages (from pyLDAvis) (3.1.3)\n",
            "Requirement already satisfied: numexpr in /usr/local/lib/python3.10/dist-packages (from pyLDAvis) (2.10.0)\n",
            "Collecting funcy (from pyLDAvis)\n",
            "  Downloading funcy-2.0-py2.py3-none-any.whl (30 kB)\n",
            "Requirement already satisfied: scikit-learn>=1.0.0 in /usr/local/lib/python3.10/dist-packages (from pyLDAvis) (1.2.2)\n",
            "Requirement already satisfied: gensim in /usr/local/lib/python3.10/dist-packages (from pyLDAvis) (4.3.2)\n",
            "Requirement already satisfied: setuptools in /usr/local/lib/python3.10/dist-packages (from pyLDAvis) (67.7.2)\n",
            "Requirement already satisfied: python-dateutil>=2.8.2 in /usr/local/lib/python3.10/dist-packages (from pandas>=2.0.0->pyLDAvis) (2.8.2)\n",
            "Requirement already satisfied: pytz>=2020.1 in /usr/local/lib/python3.10/dist-packages (from pandas>=2.0.0->pyLDAvis) (2023.4)\n",
            "Requirement already satisfied: tzdata>=2022.1 in /usr/local/lib/python3.10/dist-packages (from pandas>=2.0.0->pyLDAvis) (2024.1)\n",
            "Requirement already satisfied: threadpoolctl>=2.0.0 in /usr/local/lib/python3.10/dist-packages (from scikit-learn>=1.0.0->pyLDAvis) (3.4.0)\n",
            "Requirement already satisfied: smart-open>=1.8.1 in /usr/local/lib/python3.10/dist-packages (from gensim->pyLDAvis) (6.4.0)\n",
            "Requirement already satisfied: MarkupSafe>=2.0 in /usr/local/lib/python3.10/dist-packages (from jinja2->pyLDAvis) (2.1.5)\n",
            "Requirement already satisfied: six>=1.5 in /usr/local/lib/python3.10/dist-packages (from python-dateutil>=2.8.2->pandas>=2.0.0->pyLDAvis) (1.16.0)\n",
            "Installing collected packages: funcy, pyLDAvis\n",
            "Successfully installed funcy-2.0 pyLDAvis-3.4.1\n"
          ]
        }
      ]
    },
    {
      "cell_type": "code",
      "execution_count": null,
      "metadata": {
        "colab": {
          "base_uri": "https://localhost:8080/"
        },
        "id": "sgcT-Y6ixmPS",
        "outputId": "67f9a79f-ac3a-4912-a0bf-676760807c72"
      },
      "outputs": [
        {
          "output_type": "stream",
          "name": "stderr",
          "text": [
            "/usr/local/lib/python3.10/dist-packages/ipykernel/ipkernel.py:283: DeprecationWarning: `should_run_async` will not call `transform_cell` automatically in the future. Please pass the result to `transformed_cell` argument and any exception that happen during thetransform in `preprocessing_exc_tuple` in IPython 7.17 and above.\n",
            "  and should_run_async(code)\n"
          ]
        }
      ],
      "source": [
        "import pandas as pd\n",
        "from gensim import corpora, models\n",
        "import pyLDAvis.gensim_models as gensimvis\n",
        "import pyLDAvis\n",
        "from gensim.models import CoherenceModel\n",
        "from gensim.models import LsiModel\n",
        "from gensim.models.coherencemodel import CoherenceModel"
      ]
    },
    {
      "cell_type": "code",
      "source": [
        "df = pd.read_csv('/content/updated_preprocessed_data.csv')"
      ],
      "metadata": {
        "colab": {
          "base_uri": "https://localhost:8080/"
        },
        "id": "qFomosvBx8Wf",
        "outputId": "9b7fb32c-0515-43b9-8f68-cbc54a703235"
      },
      "execution_count": null,
      "outputs": [
        {
          "output_type": "stream",
          "name": "stderr",
          "text": [
            "/usr/local/lib/python3.10/dist-packages/ipykernel/ipkernel.py:283: DeprecationWarning: `should_run_async` will not call `transform_cell` automatically in the future. Please pass the result to `transformed_cell` argument and any exception that happen during thetransform in `preprocessing_exc_tuple` in IPython 7.17 and above.\n",
            "  and should_run_async(code)\n"
          ]
        }
      ]
    },
    {
      "cell_type": "code",
      "source": [
        "df.drop(columns=['reviewText', 'summary',], inplace=True)"
      ],
      "metadata": {
        "colab": {
          "base_uri": "https://localhost:8080/"
        },
        "id": "JsQ8c-ezyG3N",
        "outputId": "90b3607f-7883-4566-cf0f-ca9220d7123d"
      },
      "execution_count": null,
      "outputs": [
        {
          "output_type": "stream",
          "name": "stderr",
          "text": [
            "/usr/local/lib/python3.10/dist-packages/ipykernel/ipkernel.py:283: DeprecationWarning: `should_run_async` will not call `transform_cell` automatically in the future. Please pass the result to `transformed_cell` argument and any exception that happen during thetransform in `preprocessing_exc_tuple` in IPython 7.17 and above.\n",
            "  and should_run_async(code)\n"
          ]
        }
      ]
    },
    {
      "cell_type": "code",
      "source": [
        "print(\"\\nMissing values:\")\n",
        "print(df.isnull().sum())"
      ],
      "metadata": {
        "colab": {
          "base_uri": "https://localhost:8080/"
        },
        "id": "ZQ9Jq7GeyMUe",
        "outputId": "60d1e5bb-37ad-41b2-d8a2-f73a6143c463"
      },
      "execution_count": null,
      "outputs": [
        {
          "output_type": "stream",
          "name": "stdout",
          "text": [
            "\n",
            "Missing values:\n",
            "overall              0\n",
            "verified             0\n",
            "text                 0\n",
            "additional_clean    59\n",
            "sentiment            0\n",
            "dtype: int64\n"
          ]
        },
        {
          "output_type": "stream",
          "name": "stderr",
          "text": [
            "/usr/local/lib/python3.10/dist-packages/ipykernel/ipkernel.py:283: DeprecationWarning: `should_run_async` will not call `transform_cell` automatically in the future. Please pass the result to `transformed_cell` argument and any exception that happen during thetransform in `preprocessing_exc_tuple` in IPython 7.17 and above.\n",
            "  and should_run_async(code)\n"
          ]
        }
      ]
    },
    {
      "cell_type": "code",
      "source": [
        "df['additional_clean'].fillna('', inplace=True)"
      ],
      "metadata": {
        "colab": {
          "base_uri": "https://localhost:8080/"
        },
        "id": "cr1Dzf2PyS8N",
        "outputId": "75c3b9aa-2fb3-4aba-f0ed-ee90d44ea15e"
      },
      "execution_count": null,
      "outputs": [
        {
          "output_type": "stream",
          "name": "stderr",
          "text": [
            "/usr/local/lib/python3.10/dist-packages/ipykernel/ipkernel.py:283: DeprecationWarning: `should_run_async` will not call `transform_cell` automatically in the future. Please pass the result to `transformed_cell` argument and any exception that happen during thetransform in `preprocessing_exc_tuple` in IPython 7.17 and above.\n",
            "  and should_run_async(code)\n"
          ]
        }
      ]
    },
    {
      "cell_type": "code",
      "source": [
        "df = df[df['verified'] == True]"
      ],
      "metadata": {
        "colab": {
          "base_uri": "https://localhost:8080/"
        },
        "id": "dAASqNwLyV4m",
        "outputId": "5130c7f7-4bc9-4c16-9070-64f9e0c8ad5c"
      },
      "execution_count": null,
      "outputs": [
        {
          "output_type": "stream",
          "name": "stderr",
          "text": [
            "/usr/local/lib/python3.10/dist-packages/ipykernel/ipkernel.py:283: DeprecationWarning: `should_run_async` will not call `transform_cell` automatically in the future. Please pass the result to `transformed_cell` argument and any exception that happen during thetransform in `preprocessing_exc_tuple` in IPython 7.17 and above.\n",
            "  and should_run_async(code)\n"
          ]
        }
      ]
    },
    {
      "cell_type": "code",
      "source": [
        "tokenized_text = df['additional_clean'].apply(lambda x: x.split())"
      ],
      "metadata": {
        "colab": {
          "base_uri": "https://localhost:8080/"
        },
        "id": "7xmmnELqyCQe",
        "outputId": "b8deec9a-5539-40b8-c3ad-88b2e2bf5ac1"
      },
      "execution_count": null,
      "outputs": [
        {
          "output_type": "stream",
          "name": "stderr",
          "text": [
            "/usr/local/lib/python3.10/dist-packages/ipykernel/ipkernel.py:283: DeprecationWarning: `should_run_async` will not call `transform_cell` automatically in the future. Please pass the result to `transformed_cell` argument and any exception that happen during thetransform in `preprocessing_exc_tuple` in IPython 7.17 and above.\n",
            "  and should_run_async(code)\n"
          ]
        }
      ]
    },
    {
      "cell_type": "code",
      "source": [
        "dictionary = corpora.Dictionary(tokenized_text)\n",
        "corpus = [dictionary.doc2bow(text) for text in tokenized_text]"
      ],
      "metadata": {
        "colab": {
          "base_uri": "https://localhost:8080/"
        },
        "id": "QmsYQQ_eyZPV",
        "outputId": "5a8b41e1-10d3-40b3-d587-fd7f3e2a489a"
      },
      "execution_count": null,
      "outputs": [
        {
          "output_type": "stream",
          "name": "stderr",
          "text": [
            "/usr/local/lib/python3.10/dist-packages/ipykernel/ipkernel.py:283: DeprecationWarning: `should_run_async` will not call `transform_cell` automatically in the future. Please pass the result to `transformed_cell` argument and any exception that happen during thetransform in `preprocessing_exc_tuple` in IPython 7.17 and above.\n",
            "  and should_run_async(code)\n"
          ]
        }
      ]
    },
    {
      "cell_type": "code",
      "source": [
        "lda_model = models.LdaModel(corpus=corpus, id2word=dictionary, num_topics=5, passes=10)"
      ],
      "metadata": {
        "colab": {
          "base_uri": "https://localhost:8080/"
        },
        "id": "LZSwBTRjycve",
        "outputId": "fbb796e6-3b10-4472-ab75-18af527fe97b"
      },
      "execution_count": null,
      "outputs": [
        {
          "output_type": "stream",
          "name": "stderr",
          "text": [
            "/usr/local/lib/python3.10/dist-packages/ipykernel/ipkernel.py:283: DeprecationWarning: `should_run_async` will not call `transform_cell` automatically in the future. Please pass the result to `transformed_cell` argument and any exception that happen during thetransform in `preprocessing_exc_tuple` in IPython 7.17 and above.\n",
            "  and should_run_async(code)\n"
          ]
        }
      ]
    },
    {
      "cell_type": "code",
      "source": [
        "for idx, topic in lda_model.print_topics(-1):\n",
        "    print(f'Topic: {idx} \\nWords: {topic}\\n')"
      ],
      "metadata": {
        "colab": {
          "base_uri": "https://localhost:8080/"
        },
        "id": "svLy1ROiyg_u",
        "outputId": "d5674b69-730e-4190-f190-e3fea8b2e07b"
      },
      "execution_count": null,
      "outputs": [
        {
          "output_type": "stream",
          "name": "stdout",
          "text": [
            "Topic: 0 \n",
            "Words: 0.020*\"pocket\" + 0.017*\"well\" + 0.017*\"would\" + 0.014*\"cut\" + 0.014*\"love\" + 0.013*\"phone\" + 0.012*\"boot\" + 0.010*\"like\" + 0.010*\"color\" + 0.010*\"pair\"\n",
            "\n",
            "Topic: 1 \n",
            "Words: 0.053*\"size\" + 0.026*\"small\" + 0.021*\"fit\" + 0.017*\"ordered\" + 0.016*\"would\" + 0.015*\"little\" + 0.013*\"big\" + 0.013*\"like\" + 0.012*\"run\" + 0.010*\"get\"\n",
            "\n",
            "Topic: 2 \n",
            "Words: 0.064*\"great\" + 0.033*\"costume\" + 0.032*\"perfect\" + 0.020*\"fit\" + 0.017*\"product\" + 0.017*\"price\" + 0.015*\"loved\" + 0.013*\"happy\" + 0.013*\"fast\" + 0.012*\"dress\"\n",
            "\n",
            "Topic: 3 \n",
            "Words: 0.069*\"fit\" + 0.063*\"part\" + 0.047*\"good\" + 0.046*\"great\" + 0.025*\"nice\" + 0.024*\"work\" + 0.019*\"quality\" + 0.017*\"comfortable\" + 0.016*\"like\" + 0.014*\"well\"\n",
            "\n",
            "Topic: 4 \n",
            "Words: 0.105*\"shoe\" + 0.077*\"love\" + 0.054*\"van\" + 0.029*\"pair\" + 0.025*\"comfortable\" + 0.024*\"great\" + 0.014*\"slip\" + 0.014*\"son\" + 0.012*\"classic\" + 0.011*\"day\"\n",
            "\n"
          ]
        },
        {
          "output_type": "stream",
          "name": "stderr",
          "text": [
            "/usr/local/lib/python3.10/dist-packages/ipykernel/ipkernel.py:283: DeprecationWarning: `should_run_async` will not call `transform_cell` automatically in the future. Please pass the result to `transformed_cell` argument and any exception that happen during thetransform in `preprocessing_exc_tuple` in IPython 7.17 and above.\n",
            "  and should_run_async(code)\n"
          ]
        }
      ]
    },
    {
      "cell_type": "code",
      "source": [
        "lda_visualization = gensimvis.prepare(lda_model, corpus, dictionary)\n",
        "pyLDAvis.display(lda_visualization)"
      ],
      "metadata": {
        "colab": {
          "base_uri": "https://localhost:8080/",
          "height": 916
        },
        "id": "8HXKH0pHyvXt",
        "outputId": "f46fb1f6-156d-49d8-e540-f8ae364b2196"
      },
      "execution_count": null,
      "outputs": [
        {
          "output_type": "stream",
          "name": "stderr",
          "text": [
            "/usr/local/lib/python3.10/dist-packages/ipykernel/ipkernel.py:283: DeprecationWarning: `should_run_async` will not call `transform_cell` automatically in the future. Please pass the result to `transformed_cell` argument and any exception that happen during thetransform in `preprocessing_exc_tuple` in IPython 7.17 and above.\n",
            "  and should_run_async(code)\n"
          ]
        },
        {
          "output_type": "execute_result",
          "data": {
            "text/plain": [
              "<IPython.core.display.HTML object>"
            ],
            "text/html": [
              "\n",
              "<link rel=\"stylesheet\" type=\"text/css\" href=\"https://cdn.jsdelivr.net/gh/bmabey/pyLDAvis@3.4.0/pyLDAvis/js/ldavis.v1.0.0.css\">\n",
              "\n",
              "\n",
              "<div id=\"ldavis_el6461399726711432967004086849\" style=\"background-color:white;\"></div>\n",
              "<script type=\"text/javascript\">\n",
              "\n",
              "var ldavis_el6461399726711432967004086849_data = {\"mdsDat\": {\"x\": [-0.09426176773454208, -0.04181711103834475, -0.1762242160785925, 0.040490603137066955, 0.2718124917144124], \"y\": [-0.1688171596759235, -0.0628414444399183, 0.2273253219048678, -0.0879360573381268, 0.09226933954910117], \"topics\": [1, 2, 3, 4, 5], \"cluster\": [1, 1, 1, 1, 1], \"Freq\": [34.905763786561934, 26.240697951576298, 14.267408478080332, 13.60837836267805, 10.977751421103386]}, \"tinfo\": {\"Term\": [\"shoe\", \"part\", \"love\", \"great\", \"size\", \"van\", \"good\", \"small\", \"fit\", \"costume\", \"comfortable\", \"perfect\", \"pair\", \"nice\", \"pocket\", \"work\", \"ordered\", \"run\", \"carhartt\", \"loved\", \"price\", \"product\", \"well\", \"expected\", \"cut\", \"fast\", \"would\", \"phone\", \"big\", \"quality\", \"small\", \"return\", \"run\", \"medium\", \"watch\", \"half\", \"belt\", \"returned\", \"read\", \"skirt\", \"maybe\", \"sent\", \"insert\", \"ran\", \"okay\", \"send\", \"returning\", \"plastic\", \"headband\", \"reading\", \"waste\", \"stuff\", \"ll\", \"apart\", \"ended\", \"previous\", \"completely\", \"set\", \"arm\", \"based\", \"seizing\", \"size\", \"review\", \"order\", \"big\", \"ordered\", \"larger\", \"smaller\", \"however\", \"hip\", \"normally\", \"tight\", \"bigger\", \"top\", \"little\", \"ok\", \"woman\", \"bit\", \"get\", \"would\", \"could\", \"usually\", \"like\", \"fit\", \"really\", \"got\", \"dress\", \"good\", \"quality\", \"look\", \"fine\", \"bought\", \"thigh\", \"warm\", \"carhartt\", \"soft\", \"carpenter\", \"shrink\", \"lightweight\", \"weather\", \"levi\", \"prefer\", \"denis\", \"condition\", \"part\", \"taxed\", \"measurement\", \"formal\", \"tailor\", \"value\", \"dry\", \"yard\", \"flattering\", \"heavier\", \"clot\", \"warmer\", \"finding\", \"wash\", \"upper\", \"wrangled\", \"stud\", \"slack\", \"washed\", \"tough\", \"rugged\", \"robe\", \"good\", \"loose\", \"sun\", \"nice\", \"work\", \"light\", \"jean\", \"unable\", \"weight\", \"fit\", \"baggy\", \"length\", \"leg\", \"waist\", \"expected\", \"hat\", \"comfortable\", \"great\", \"quality\", \"excellent\", \"well\", \"long\", \"look\", \"like\", \"perfect\", \"pair\", \"feel\", \"buy\", \"color\", \"price\", \"little\", \"really\", \"size\", \"loved\", \"fast\", \"chain\", \"delivery\", \"fun\", \"em\", \"stocking\", \"party\", \"compliment\", \"wig\", \"halloween\", \"necklace\", \"peasant\", \"process\", \"check\", \"granddaughter\", \"lovely\", \"sterling\", \"promised\", \"correctly\", \"begging\", \"gatsby\", \"shed\", \"girlfriend\", \"nephew\", \"taking\", \"charm\", \"earlier\", \"custom\", \"mother\", \"satisfied\", \"thanks\", \"shipping\", \"flapped\", \"gift\", \"thank\", \"costume\", \"astronaut\", \"christmas\", \"helmet\", \"daughter\", \"happy\", \"accessory\", \"beautiful\", \"pleased\", \"purchase\", \"perfect\", \"product\", \"great\", \"price\", \"exactly\", \"dress\", \"looked\", \"fit\", \"bought\", \"quality\", \"recommend\", \"expected\", \"got\", \"look\", \"phone\", \"ring\", \"cell\", \"loop\", \"daily\", \"hammer\", \"holding\", \"fix\", \"name\", \"tear\", \"patch\", \"navy\", \"theme\", \"forever\", \"pictured\", \"wedding\", \"six\", \"fro\", \"stone\", \"older\", \"finger\", \"duty\", \"tool\", \"charcoal\", \"beware\", \"w\", \"mostly\", \"handy\", \"teenager\", \"missed\", \"lasted\", \"pocket\", \"bag\", \"tie\", \"boot\", \"cut\", \"sock\", \"side\", \"rough\", \"held\", \"well\", \"color\", \"super\", \"would\", \"speaker\", \"real\", \"love\", \"shape\", \"far\", \"pair\", \"like\", \"enough\", \"really\", \"bought\", \"easy\", \"pretty\", \"come\", \"look\", \"thin\", \"keep\", \"work\", \"lot\", \"fit\", \"day\", \"great\", \"shoe\", \"van\", \"classic\", \"arch\", \"narrow\", \"favorite\", \"slips\", \"sole\", \"support\", \"slip\", \"walking\", \"on\", \"blister\", \"relaxed\", \"checkerboards\", \"closet\", \"bostonian\", \"tennis\", \"california\", \"simon\", \"nd\", \"war\", \"natural\", \"lazy\", \"wolf\", \"discontinued\", \"speak\", \"boat\", \"copy\", \"nail\", \"love\", \"heel\", \"awesome\", \"son\", \"walk\", \"checked\", \"pair\", \"toe\", \"comfortable\", \"always\", \"cool\", \"day\", \"style\", \"ever\", \"black\", \"wide\", \"easy\", \"everyday\", \"wearing\", \"super\", \"new\", \"come\", \"great\", \"bought\", \"go\", \"like\", \"get\", \"buy\", \"look\", \"work\", \"best\"], \"Freq\": [1561.0, 2309.0, 1450.0, 3329.0, 2716.0, 795.0, 2032.0, 1220.0, 3920.0, 806.0, 957.0, 1148.0, 1015.0, 1095.0, 461.0, 1061.0, 878.0, 546.0, 443.0, 282.0, 674.0, 611.0, 1046.0, 746.0, 497.0, 246.0, 1276.0, 236.0, 673.0, 1155.0, 1219.4528425646088, 263.5499234485737, 544.4276592526745, 199.87491467883916, 167.1663026888743, 167.6466525204818, 131.28832915503384, 115.63270086599908, 103.4505383592301, 97.68238214557691, 104.5265092630507, 93.39166706068232, 83.50808743183507, 73.40518762889732, 73.1547498118088, 71.57088042309222, 65.09974288302737, 61.70198792701307, 62.32320046460935, 59.73943283138174, 72.25715164100176, 53.77744922727815, 131.29556581619616, 51.440259858519156, 53.610452306319026, 49.12884287167241, 53.955783584058274, 47.395947603883194, 56.26550653431474, 43.32392496754644, 230.5456170976603, 2504.230893866004, 300.89170906598366, 449.3471418755501, 625.539534668725, 809.1883638308127, 253.8240920684273, 302.14876096843466, 202.42746050500654, 99.80766891793682, 157.85883804101618, 397.69961746255865, 193.52487608454322, 249.55713735434904, 727.3202792525739, 146.79000296015886, 170.08775376474912, 403.1360604790235, 491.15390357157145, 746.7178205590828, 306.2364438491731, 175.43517488427912, 614.402093847121, 971.0412467429818, 305.04726305671437, 265.26262185293706, 246.88461645782058, 342.5726844334378, 233.16329287428874, 228.62040207716285, 182.52842954458555, 205.97631913901813, 151.73403763909576, 125.71124732744548, 438.7173556244509, 136.1387810701636, 77.49570533587341, 73.14512830547861, 70.49844471369767, 61.418659572755146, 47.52819078165957, 35.758398113869525, 35.18026344498295, 34.63478246117368, 2246.9114204464727, 29.875422342544997, 32.48620666335965, 26.89940348371346, 26.87564579500614, 105.46044817454283, 24.022392510356106, 24.485703502214268, 25.840079281271723, 23.003950325978774, 25.621761597829256, 21.987698654490323, 21.32356317195892, 140.8576362768978, 19.925253493756692, 18.726047630534186, 24.885050693441393, 18.40105629685118, 65.40525290363124, 50.0928012338937, 46.16670562398816, 125.45280389896797, 1671.1360596432792, 316.4904786370763, 54.09298687240389, 876.5401412289424, 849.8743581085517, 130.65639096442763, 274.6614666130208, 285.0146506802632, 135.66726235221284, 2445.2989068011884, 101.16832053980198, 191.35019890059877, 210.5571929033326, 355.94325195320454, 488.9331594118132, 210.90358655767778, 588.7128637566013, 1635.2361457418924, 674.3212232164276, 207.1250239484932, 502.74043816967827, 258.04108298312474, 458.13449049487645, 556.8855975776613, 460.59871239970266, 398.7568284270248, 218.72888165874414, 292.3116344620453, 245.59298553212224, 210.84044703282808, 208.67720118679588, 180.54008579673518, 209.3577397573757, 282.0300256376428, 245.23400481802537, 158.93203880732048, 136.60224674187654, 100.90120249540543, 101.51048886797622, 99.47934904936598, 188.2424465795265, 116.29032867920755, 76.16491076693569, 218.30927475601717, 46.60819802625784, 35.17876773252684, 38.657331305368544, 31.47734293534657, 28.673350579424596, 23.154038434881123, 22.539719119343086, 21.85433357350086, 21.787775927902853, 21.973793141436676, 19.442287813483105, 20.639946731058657, 19.555916696823743, 19.898443647046918, 19.235820627768035, 17.830410518992, 18.27004794690886, 17.521527649672752, 16.407881457500796, 96.64971467813938, 121.62099061467555, 185.20846486410176, 49.663176480597585, 177.82675542288146, 88.55907286796919, 641.4965621971478, 48.14475148063275, 78.9811896884362, 98.42145401683497, 177.3479849586741, 251.6957478578455, 46.19843221286674, 120.19231602954781, 121.4420903320696, 198.21131279063783, 612.2941991168868, 335.0969101880452, 1230.3928021721763, 333.5933195970043, 161.85878253581714, 240.26570581280993, 118.69828937465304, 381.8328454720523, 189.71172531717718, 212.12096886340768, 144.5283296919654, 176.0227120299491, 149.7381830694414, 141.4379503324625, 235.24854293152185, 126.77410271229384, 121.13399686509614, 50.93055052407725, 47.81065449907049, 47.346885997731135, 45.53071157356116, 42.344079256082054, 41.27567019867453, 40.34919331645017, 39.29605768800778, 35.48612797686791, 33.26265570160878, 34.08315687317287, 32.26450527237673, 30.926331894113545, 29.50734356726363, 29.9342066252863, 28.288074667056474, 29.83456812661618, 28.046544602656088, 29.61686084968366, 27.307471796151294, 26.433644000926392, 25.911812531315718, 24.82250884172751, 22.07905389563392, 21.780087103472532, 21.61412909355707, 21.044100615387226, 46.54527249643921, 371.6976554338131, 155.10170961306696, 59.712776453709566, 213.54165329821012, 264.7291077706153, 110.71065317599586, 127.63732289095647, 36.44325217198496, 46.16786961469448, 321.10720266565386, 184.6939119754891, 112.42659492107975, 309.6750688706649, 55.567303657393985, 69.25024843879423, 258.3819101297319, 59.58753262632375, 69.8629040184587, 181.81592432399648, 184.6948695036414, 85.4071339141686, 120.8450114489867, 126.09010273592403, 73.43658716875288, 86.33211465865499, 82.76358677153796, 117.19205009729666, 67.48361327246835, 69.20111955015825, 97.93387627569673, 72.08657506630303, 105.89767211586225, 74.67983488222058, 82.07943290671511, 1561.0748075600447, 794.9889985586117, 170.9553509202235, 85.74098409078205, 71.17226286899954, 89.8231678838856, 49.379844299255026, 47.42503341121581, 89.07331174603786, 201.84151743704243, 40.52757351868512, 38.81382944424629, 21.102517060189143, 20.053375721517575, 17.66147347210191, 17.794493331554836, 16.640160267345706, 15.827161507425567, 15.98682671889386, 35.29926716779777, 14.515232237987203, 11.86791806504699, 12.405361401533462, 10.553377537317743, 10.632249779322592, 10.456269591573376, 10.483489092820081, 9.785858982875887, 9.593647441181238, 9.494697217798173, 1147.0412793141866, 32.113045836456955, 125.97362421843285, 200.05619954010703, 35.65007752066167, 31.1337575967598, 424.2956060843489, 39.56167519769841, 367.8326189276387, 133.77519845730816, 75.07112581263488, 168.12562626056027, 98.8737253257196, 81.01075306016746, 95.2863926514996, 64.85264193560111, 88.64722749785322, 52.83649164272851, 106.95900170009489, 93.3174849342849, 74.38253984621318, 104.97442470896304, 354.03852674507294, 144.23009388390443, 93.64940870852992, 152.34108110914377, 113.14653727519169, 103.08759446925188, 91.58014039534586, 86.08417705234247, 75.42686384869147], \"Total\": [1561.0, 2309.0, 1450.0, 3329.0, 2716.0, 795.0, 2032.0, 1220.0, 3920.0, 806.0, 957.0, 1148.0, 1015.0, 1095.0, 461.0, 1061.0, 878.0, 546.0, 443.0, 282.0, 674.0, 611.0, 1046.0, 746.0, 497.0, 246.0, 1276.0, 236.0, 673.0, 1155.0, 1220.8764909619808, 264.36664840220567, 546.6440852860161, 200.7230362036133, 167.98517458859666, 168.47451352818342, 132.10634362868453, 116.45657006907463, 104.29300069349524, 98.49896487154953, 105.40875127192884, 94.21726170937534, 84.32497256783782, 74.21870317502969, 73.97009643667154, 72.409037406604, 65.9171296775271, 62.51760730468004, 63.1515349150874, 60.556278620678995, 73.25371694197167, 54.60785596736037, 133.3318524784121, 52.265732861115, 54.492398198314284, 49.95653309787368, 54.886314358825906, 48.22416311716703, 57.285147375335875, 44.13970038743258, 236.61546509516785, 2716.4124361095674, 317.4230975065657, 478.0282287798725, 673.0897643743762, 878.1477355012099, 267.6183669320332, 321.22319583618787, 214.65157282495932, 103.71742108456868, 170.1739998403581, 491.28086912350034, 220.79404808237265, 294.15737329078235, 1006.6298136311793, 163.3123297860053, 196.9877113965055, 562.3423890090409, 729.0324090260087, 1276.1936856711977, 415.86683995333465, 210.60852250790887, 1511.3308445076982, 3920.7292714175364, 667.942828712859, 522.6928627791381, 516.4981691507218, 2032.1299639069432, 1155.676278462794, 1036.9650333971442, 279.1297309305574, 755.5698436686137, 152.58980516517715, 126.75455285853106, 443.0311004750654, 137.58715320664993, 78.33046007721478, 73.97988334972317, 71.35582305939815, 62.280951503205905, 48.37581950559792, 36.59842541088303, 36.017716314821506, 35.49087708411015, 2309.591064809219, 30.73054700207668, 33.43564929325077, 27.741761515242274, 27.726630399095338, 108.8211580950691, 24.859848177316657, 25.35238151695432, 26.786648338845705, 23.86005866084144, 26.58635777223457, 22.82528770488547, 22.16917566533457, 146.82245424986024, 20.804431228482002, 19.55819738412536, 26.000338373568873, 19.23832152965432, 68.44313426788432, 52.879766738588856, 48.76116641093977, 135.72761015727582, 2032.1299639069432, 371.2760475473231, 58.37919006658335, 1095.5497136448425, 1061.4549190698174, 147.96799828878775, 326.3554136873505, 342.63711107570015, 157.08484722234712, 3920.7292714175364, 118.06683485979214, 240.16268048884257, 268.2117834383575, 496.62985297037517, 746.6847364381279, 281.6775216316833, 957.3311258133617, 3329.2861312655236, 1155.676278462794, 280.84377594037915, 1046.4061778542284, 424.91552313206796, 1036.9650333971442, 1511.3308445076982, 1148.6485922444278, 1015.7734639614584, 368.9850313199517, 660.8808828072993, 531.178510789634, 674.3585894906646, 1006.6298136311793, 667.942828712859, 2716.4124361095674, 282.8623621039568, 246.04052839223576, 159.74070604829006, 137.59354721027233, 101.72115869750127, 102.34346385363726, 100.2984175407008, 190.0660210050319, 117.48688442388345, 76.97521456375412, 221.24312348237459, 47.50368601601086, 35.977851481565516, 39.56226186209634, 32.33094806875762, 29.476073533697985, 23.960188859821514, 23.374628435657456, 22.66469032276679, 22.59625324981065, 22.792846527696387, 20.2462946937162, 21.530443203415373, 20.40305889463291, 20.767962840964564, 20.083988025464762, 18.63217177845908, 19.097592884919106, 18.335015014757012, 17.210394949481692, 101.64791622986927, 131.1140917437582, 205.75282350502496, 54.08821448276868, 204.6003860556585, 99.27434337509311, 806.8615976004687, 52.72309044059052, 89.48045516329674, 114.05008478400987, 218.45745099046908, 322.2494034034674, 51.92297525477843, 153.24893506142408, 157.65910135659115, 283.8231436281048, 1148.6485922444278, 611.6159177839266, 3329.2861312655236, 674.3585894906646, 266.4897675527929, 516.4981691507218, 198.81062254546487, 3920.7292714175364, 755.5698436686137, 1155.676278462794, 370.85760868553047, 746.6847364381279, 522.6928627791381, 1036.9650333971442, 236.0656863684227, 127.58593807964657, 121.94866719301615, 51.74314646539105, 48.63239593457179, 48.1611819114937, 46.34960276737734, 43.16863611003661, 42.09867195608523, 41.166475395085406, 40.12234649112342, 36.30408924372907, 34.11225864403109, 34.96263207517223, 33.101278469844154, 31.74815870220545, 30.335149590282253, 30.790351494162152, 29.098757421588406, 30.695188340299605, 28.869402097491875, 30.488756561982687, 28.141547348506005, 27.266871952000287, 26.739075417080237, 25.653225279243994, 22.903727499081505, 22.596866536310742, 22.45321080802725, 21.874097509517995, 50.38237888427274, 461.71989940047564, 201.12293537851676, 71.61021728826681, 322.8393781334078, 497.1034088032032, 167.67845695868806, 224.23712925828443, 41.88976823819063, 59.63858345260632, 1046.4061778542284, 531.178510789634, 250.54939976015896, 1276.1936856711977, 86.33269766883932, 131.05386011145998, 1450.707984914669, 102.45113852446619, 145.39057559256307, 1015.7734639614584, 1511.3308445076982, 262.0624880258043, 667.942828712859, 755.5698436686137, 200.06674282352066, 320.79238270607914, 320.40167483381543, 1036.9650333971442, 178.9217085681093, 200.04383468529247, 1061.4549190698174, 279.1991538654565, 3920.7292714175364, 395.3219719478982, 3329.2861312655236, 1561.9976348504447, 795.9017021157629, 171.86611396400022, 86.64881745291707, 72.08655284499767, 91.0997068111553, 50.29149066813749, 48.332159426880764, 91.03880842101185, 206.31345752444193, 41.44351357216788, 39.72076850682483, 22.009083521527277, 21.00672045194803, 18.569837668317827, 18.710619877134718, 17.5495835998294, 16.73747397210933, 16.92943380020688, 37.49831055524857, 15.430102641889976, 12.77331762575516, 13.358938172044553, 11.460175843094477, 11.5505701730824, 11.366384564290533, 11.401647298648836, 10.699227333360263, 10.51721944554319, 10.410665367077577, 1450.707984914669, 38.394200409541554, 193.26020081138034, 337.4198736239617, 46.5760504792733, 40.52157474455003, 1015.7734639614584, 56.70597487517334, 957.3311258133617, 271.2478069515637, 129.33847693008101, 395.3219719478982, 193.7173852156879, 150.90404169367463, 197.33981616382707, 120.4975456095298, 200.06674282352066, 91.6183220992441, 315.79134326620147, 250.54939976015896, 169.61267180156256, 320.40167483381543, 3329.2861312655236, 755.5698436686137, 368.7014050941429, 1511.3308445076982, 729.0324090260087, 660.8808828072993, 1036.9650333971442, 1061.4549190698174, 255.6780098381185], \"Category\": [\"Default\", \"Default\", \"Default\", \"Default\", \"Default\", \"Default\", \"Default\", \"Default\", \"Default\", \"Default\", \"Default\", \"Default\", \"Default\", \"Default\", \"Default\", \"Default\", \"Default\", \"Default\", \"Default\", \"Default\", \"Default\", \"Default\", \"Default\", \"Default\", \"Default\", \"Default\", \"Default\", \"Default\", \"Default\", \"Default\", \"Topic1\", \"Topic1\", \"Topic1\", \"Topic1\", \"Topic1\", \"Topic1\", \"Topic1\", \"Topic1\", \"Topic1\", \"Topic1\", \"Topic1\", \"Topic1\", \"Topic1\", \"Topic1\", \"Topic1\", \"Topic1\", \"Topic1\", \"Topic1\", \"Topic1\", \"Topic1\", \"Topic1\", \"Topic1\", \"Topic1\", \"Topic1\", \"Topic1\", \"Topic1\", \"Topic1\", \"Topic1\", \"Topic1\", \"Topic1\", \"Topic1\", \"Topic1\", \"Topic1\", \"Topic1\", \"Topic1\", \"Topic1\", \"Topic1\", \"Topic1\", \"Topic1\", \"Topic1\", \"Topic1\", \"Topic1\", \"Topic1\", \"Topic1\", \"Topic1\", \"Topic1\", \"Topic1\", \"Topic1\", \"Topic1\", \"Topic1\", \"Topic1\", \"Topic1\", \"Topic1\", \"Topic1\", \"Topic1\", \"Topic1\", \"Topic1\", \"Topic1\", \"Topic1\", \"Topic1\", \"Topic1\", \"Topic1\", \"Topic2\", \"Topic2\", \"Topic2\", \"Topic2\", \"Topic2\", \"Topic2\", \"Topic2\", \"Topic2\", \"Topic2\", \"Topic2\", \"Topic2\", \"Topic2\", \"Topic2\", \"Topic2\", \"Topic2\", \"Topic2\", \"Topic2\", \"Topic2\", \"Topic2\", \"Topic2\", \"Topic2\", \"Topic2\", \"Topic2\", \"Topic2\", \"Topic2\", \"Topic2\", \"Topic2\", \"Topic2\", \"Topic2\", \"Topic2\", \"Topic2\", \"Topic2\", \"Topic2\", \"Topic2\", \"Topic2\", \"Topic2\", \"Topic2\", \"Topic2\", \"Topic2\", \"Topic2\", \"Topic2\", \"Topic2\", \"Topic2\", \"Topic2\", \"Topic2\", \"Topic2\", \"Topic2\", \"Topic2\", \"Topic2\", \"Topic2\", \"Topic2\", \"Topic2\", \"Topic2\", \"Topic2\", \"Topic2\", \"Topic2\", \"Topic2\", \"Topic2\", \"Topic2\", \"Topic2\", \"Topic2\", \"Topic2\", \"Topic2\", \"Topic2\", \"Topic2\", \"Topic2\", \"Topic2\", \"Topic3\", \"Topic3\", \"Topic3\", \"Topic3\", \"Topic3\", \"Topic3\", \"Topic3\", \"Topic3\", \"Topic3\", \"Topic3\", \"Topic3\", \"Topic3\", \"Topic3\", \"Topic3\", \"Topic3\", \"Topic3\", \"Topic3\", \"Topic3\", \"Topic3\", \"Topic3\", \"Topic3\", \"Topic3\", \"Topic3\", \"Topic3\", \"Topic3\", \"Topic3\", \"Topic3\", \"Topic3\", \"Topic3\", \"Topic3\", \"Topic3\", \"Topic3\", \"Topic3\", \"Topic3\", \"Topic3\", \"Topic3\", \"Topic3\", \"Topic3\", \"Topic3\", \"Topic3\", \"Topic3\", \"Topic3\", \"Topic3\", \"Topic3\", \"Topic3\", \"Topic3\", \"Topic3\", \"Topic3\", \"Topic3\", \"Topic3\", \"Topic3\", \"Topic3\", \"Topic3\", \"Topic3\", \"Topic3\", \"Topic3\", \"Topic3\", \"Topic3\", \"Topic3\", \"Topic3\", \"Topic4\", \"Topic4\", \"Topic4\", \"Topic4\", \"Topic4\", \"Topic4\", \"Topic4\", \"Topic4\", \"Topic4\", \"Topic4\", \"Topic4\", \"Topic4\", \"Topic4\", \"Topic4\", \"Topic4\", \"Topic4\", \"Topic4\", \"Topic4\", \"Topic4\", \"Topic4\", \"Topic4\", \"Topic4\", \"Topic4\", \"Topic4\", \"Topic4\", \"Topic4\", \"Topic4\", \"Topic4\", \"Topic4\", \"Topic4\", \"Topic4\", \"Topic4\", \"Topic4\", \"Topic4\", \"Topic4\", \"Topic4\", \"Topic4\", \"Topic4\", \"Topic4\", \"Topic4\", \"Topic4\", \"Topic4\", \"Topic4\", \"Topic4\", \"Topic4\", \"Topic4\", \"Topic4\", \"Topic4\", \"Topic4\", \"Topic4\", \"Topic4\", \"Topic4\", \"Topic4\", \"Topic4\", \"Topic4\", \"Topic4\", \"Topic4\", \"Topic4\", \"Topic4\", \"Topic4\", \"Topic4\", \"Topic4\", \"Topic4\", \"Topic4\", \"Topic4\", \"Topic5\", \"Topic5\", \"Topic5\", \"Topic5\", \"Topic5\", \"Topic5\", \"Topic5\", \"Topic5\", \"Topic5\", \"Topic5\", \"Topic5\", \"Topic5\", \"Topic5\", \"Topic5\", \"Topic5\", \"Topic5\", \"Topic5\", \"Topic5\", \"Topic5\", \"Topic5\", \"Topic5\", \"Topic5\", \"Topic5\", \"Topic5\", \"Topic5\", \"Topic5\", \"Topic5\", \"Topic5\", \"Topic5\", \"Topic5\", \"Topic5\", \"Topic5\", \"Topic5\", \"Topic5\", \"Topic5\", \"Topic5\", \"Topic5\", \"Topic5\", \"Topic5\", \"Topic5\", \"Topic5\", \"Topic5\", \"Topic5\", \"Topic5\", \"Topic5\", \"Topic5\", \"Topic5\", \"Topic5\", \"Topic5\", \"Topic5\", \"Topic5\", \"Topic5\", \"Topic5\", \"Topic5\", \"Topic5\", \"Topic5\", \"Topic5\", \"Topic5\", \"Topic5\", \"Topic5\", \"Topic5\"], \"logprob\": [30.0, 29.0, 28.0, 27.0, 26.0, 25.0, 24.0, 23.0, 22.0, 21.0, 20.0, 19.0, 18.0, 17.0, 16.0, 15.0, 14.0, 13.0, 12.0, 11.0, 10.0, 9.0, 8.0, 7.0, 6.0, 5.0, 4.0, 3.0, 2.0, 1.0, -3.6537, -5.1856, -4.4601, -5.4622, -5.6409, -5.638, -5.8825, -6.0095, -6.1208, -6.1782, -6.1104, -6.2231, -6.3349, -6.4639, -6.4673, -6.4892, -6.584, -6.6376, -6.6275, -6.6699, -6.4796, -6.775, -5.8824, -6.8195, -6.7781, -6.8654, -6.7717, -6.9013, -6.7298, -6.9912, -5.3194, -2.9341, -5.0531, -4.6521, -4.3213, -4.0638, -5.2232, -5.049, -5.4495, -6.1566, -5.6982, -4.7742, -5.4945, -5.2402, -4.1705, -5.7709, -5.6236, -4.7606, -4.5631, -4.1442, -5.0355, -5.5926, -4.3392, -3.8815, -5.0394, -5.1792, -5.251, -4.9234, -5.3081, -5.3278, -5.553, -5.4321, -5.4524, -5.6405, -4.3907, -5.5609, -6.1243, -6.1821, -6.2189, -6.3568, -6.6132, -6.8977, -6.914, -6.9297, -2.7572, -7.0775, -6.9937, -7.1824, -7.1833, -5.8162, -7.2955, -7.2764, -7.2226, -7.3389, -7.2311, -7.3841, -7.4147, -5.5268, -7.4825, -7.5446, -7.2603, -7.5621, -6.2939, -6.5607, -6.6423, -5.6426, -3.0533, -4.7172, -6.4838, -3.6986, -3.7294, -5.602, -4.859, -4.822, -5.5643, -2.6726, -5.8577, -5.2204, -5.1248, -4.5998, -4.2823, -5.1231, -4.0966, -3.075, -3.9608, -5.1412, -4.2545, -4.9214, -4.3474, -4.1522, -4.342, -4.4862, -5.0867, -4.7967, -4.9709, -5.1234, -5.1337, -5.2786, -5.1305, -4.2232, -4.363, -4.7967, -4.9481, -5.2511, -5.245, -5.2653, -4.6275, -5.1091, -5.5323, -4.4793, -6.0234, -6.3048, -6.2105, -6.4159, -6.5092, -6.723, -6.7499, -6.7808, -6.7839, -6.7753, -6.8977, -6.838, -6.8919, -6.8746, -6.9084, -6.9843, -6.9599, -7.0018, -7.0674, -5.2941, -5.0643, -4.6437, -5.9599, -4.6844, -5.3815, -3.4014, -5.991, -5.496, -5.2759, -4.6871, -4.337, -6.0323, -5.0761, -5.0658, -4.5759, -3.448, -4.0508, -2.7501, -4.0553, -4.7785, -4.3835, -5.0886, -3.9202, -4.6197, -4.508, -4.8917, -4.6946, -4.8563, -4.9133, -4.3573, -4.9755, -5.021, -5.8874, -5.9507, -5.9604, -5.9995, -6.0721, -6.0976, -6.1203, -6.1468, -6.2488, -6.3135, -6.2891, -6.3439, -6.3863, -6.4333, -6.4189, -6.4755, -6.4222, -6.484, -6.4296, -6.5107, -6.5433, -6.5632, -6.6062, -6.7233, -6.7369, -6.7446, -6.7713, -5.9775, -3.8998, -4.7738, -5.7284, -4.4541, -4.2392, -5.111, -4.9687, -6.2222, -5.9856, -4.0461, -4.5992, -5.0956, -4.0824, -5.8003, -5.5802, -4.2635, -5.7305, -5.5714, -4.6149, -4.5992, -5.3705, -5.0234, -4.9809, -5.5215, -5.3597, -5.4019, -5.0541, -5.606, -5.5809, -5.2336, -5.54, -5.1554, -5.5047, -5.4102, -2.25, -2.9248, -4.4617, -5.1518, -5.338, -5.1053, -5.7036, -5.7439, -5.1136, -4.2956, -5.9011, -5.9443, -6.5537, -6.6047, -6.7317, -6.7242, -6.7913, -6.8414, -6.8313, -6.0392, -6.9279, -7.1293, -7.085, -7.2466, -7.2392, -7.2559, -7.2533, -7.3222, -7.342, -7.3524, -2.5582, -6.1338, -4.767, -4.3045, -6.0293, -6.1648, -3.5527, -5.9252, -3.6955, -4.7069, -5.2847, -4.4784, -5.0092, -5.2085, -5.0462, -5.431, -5.1184, -5.6359, -4.9306, -5.0671, -5.2939, -4.9494, -3.7337, -4.6317, -5.0635, -4.577, -4.8744, -4.9675, -5.0859, -5.1478, -5.2799], \"loglift\": [30.0, 29.0, 28.0, 27.0, 26.0, 25.0, 24.0, 23.0, 22.0, 21.0, 20.0, 19.0, 18.0, 17.0, 16.0, 15.0, 14.0, 13.0, 12.0, 11.0, 10.0, 9.0, 8.0, 7.0, 6.0, 5.0, 4.0, 3.0, 2.0, 1.0, 1.0514, 1.0494, 1.0485, 1.0483, 1.0476, 1.0476, 1.0463, 1.0454, 1.0444, 1.0442, 1.0441, 1.0437, 1.0428, 1.0415, 1.0414, 1.0409, 1.04, 1.0394, 1.0393, 1.0389, 1.0388, 1.0372, 1.0371, 1.0366, 1.0362, 1.0358, 1.0354, 1.0352, 1.0346, 1.0339, 1.0265, 0.9712, 0.999, 0.9906, 0.9793, 0.9707, 0.9996, 0.9913, 0.9939, 1.0141, 0.9774, 0.8412, 0.9207, 0.8881, 0.7275, 0.9459, 0.9057, 0.7197, 0.6576, 0.5166, 0.7465, 0.8698, 0.1524, -0.3431, 0.2688, 0.3742, 0.3144, -0.7278, -0.5482, -0.4595, 0.6277, -0.2472, 1.3322, 1.3296, 1.3281, 1.3273, 1.3271, 1.3265, 1.3258, 1.3239, 1.3202, 1.3146, 1.3143, 1.3134, 1.3103, 1.3096, 1.3091, 1.307, 1.3067, 1.3065, 1.3036, 1.3031, 1.3019, 1.3013, 1.3009, 1.3005, 1.299, 1.2964, 1.2947, 1.2944, 1.294, 1.2934, 1.2925, 1.2837, 1.2832, 1.2591, 1.1423, 1.1782, 1.2616, 1.1148, 1.1156, 1.2134, 1.1654, 1.1537, 1.1913, 0.8657, 1.1834, 1.1106, 1.0958, 1.0048, 0.9144, 1.0485, 0.8516, 0.6269, 0.7991, 1.0334, 0.6048, 0.8391, 0.521, 0.3395, 0.424, 0.4028, 0.8149, 0.5221, 0.5664, 0.1752, -0.2357, 0.0296, -1.2252, 1.9442, 1.9439, 1.9421, 1.94, 1.9391, 1.939, 1.939, 1.9376, 1.937, 1.9366, 1.9338, 1.9282, 1.9247, 1.9241, 1.9204, 1.9196, 1.913, 1.9108, 1.9108, 1.9108, 1.9106, 1.9067, 1.905, 1.9048, 1.9044, 1.904, 1.9032, 1.9029, 1.9018, 1.8994, 1.8968, 1.872, 1.842, 1.8618, 1.8069, 1.833, 1.7178, 1.8564, 1.8224, 1.7998, 1.7387, 1.7001, 1.8304, 1.7042, 1.6862, 1.5882, 1.3181, 1.3455, 0.9518, 1.2434, 1.4486, 1.1819, 1.4314, -0.3819, 0.5652, 0.2519, 1.0048, 0.5022, 0.6971, -0.045, 1.991, 1.9881, 1.9878, 1.9787, 1.9774, 1.9774, 1.9767, 1.9752, 1.9747, 1.9744, 1.9737, 1.9717, 1.9693, 1.969, 1.9689, 1.9683, 1.9668, 1.9663, 1.9662, 1.966, 1.9656, 1.9655, 1.9644, 1.9634, 1.9631, 1.9616, 1.9578, 1.9577, 1.9564, 1.9558, 1.9153, 1.7776, 1.7346, 1.8128, 1.5812, 1.3644, 1.5794, 1.431, 1.8552, 1.7385, 0.8131, 0.9381, 1.1931, 0.5784, 1.5539, 1.3566, 0.2691, 1.4525, 1.2616, 0.2741, -0.1076, 0.8733, 0.2848, 0.204, 0.9923, 0.6819, 0.6409, -0.1858, 1.0194, 0.933, -0.3886, 0.6404, -1.6171, 0.328, -1.7083, 2.2087, 2.2082, 2.204, 2.1988, 2.1965, 2.1952, 2.191, 2.1904, 2.1875, 2.1874, 2.187, 2.1862, 2.1672, 2.1629, 2.1591, 2.1591, 2.1561, 2.1534, 2.152, 2.1489, 2.1482, 2.1358, 2.1352, 2.1269, 2.1265, 2.1258, 2.1253, 2.1201, 2.1174, 2.1172, 1.9744, 2.0307, 1.7813, 1.6866, 1.942, 1.9458, 1.3363, 1.8493, 1.2528, 1.5024, 1.6653, 1.3543, 1.5367, 1.5872, 1.4813, 1.5898, 1.3953, 1.6589, 1.1267, 1.2217, 1.385, 1.0934, -0.0318, 0.5532, 0.8389, -0.0853, 0.3463, 0.3513, -0.2175, -0.3028, 0.9885]}, \"token.table\": {\"Topic\": [3, 4, 1, 2, 5, 1, 5, 1, 3, 4, 2, 3, 5, 1, 4, 1, 2, 1, 1, 3, 4, 3, 1, 1, 2, 3, 4, 5, 4, 1, 2, 4, 1, 2, 1, 2, 3, 4, 1, 3, 5, 5, 5, 1, 3, 4, 5, 1, 2, 3, 4, 5, 1, 2, 3, 4, 5, 5, 2, 4, 5, 2, 4, 3, 4, 3, 3, 1, 3, 5, 5, 3, 5, 5, 5, 2, 1, 2, 4, 5, 1, 2, 3, 4, 5, 2, 5, 1, 3, 4, 2, 1, 2, 3, 4, 5, 5, 3, 1, 3, 1, 2, 3, 4, 5, 3, 1, 3, 4, 4, 1, 3, 4, 1, 2, 3, 4, 5, 3, 2, 5, 1, 2, 3, 4, 2, 4, 3, 1, 2, 4, 5, 3, 1, 1, 2, 4, 5, 1, 2, 3, 5, 2, 5, 1, 2, 3, 4, 5, 2, 3, 1, 2, 3, 1, 2, 4, 3, 4, 5, 1, 2, 4, 5, 2, 1, 2, 3, 4, 4, 1, 2, 3, 4, 5, 4, 1, 3, 2, 4, 2, 4, 3, 3, 1, 2, 3, 4, 5, 3, 5, 3, 1, 2, 3, 4, 5, 1, 2, 3, 4, 5, 1, 2, 3, 4, 5, 3, 1, 2, 3, 4, 5, 1, 1, 3, 4, 4, 1, 2, 3, 4, 5, 1, 2, 3, 4, 1, 2, 1, 5, 2, 3, 4, 1, 3, 4, 1, 4, 4, 1, 2, 3, 4, 1, 2, 4, 5, 1, 2, 4, 5, 1, 2, 1, 4, 5, 1, 2, 4, 1, 2, 3, 4, 2, 1, 2, 4, 5, 2, 1, 2, 3, 4, 5, 1, 2, 3, 4, 5, 1, 2, 3, 1, 2, 3, 4, 5, 1, 2, 3, 4, 5, 1, 2, 3, 4, 4, 1, 2, 4, 1, 2, 3, 4, 5, 2, 3, 4, 5, 3, 3, 1, 2, 1, 4, 4, 3, 5, 4, 5, 5, 4, 5, 3, 3, 1, 2, 3, 4, 5, 1, 2, 3, 4, 5, 1, 2, 1, 2, 4, 1, 4, 5, 1, 2, 1, 2, 3, 4, 1, 2, 4, 5, 1, 2, 4, 5, 3, 4, 4, 3, 1, 2, 3, 4, 5, 4, 4, 1, 1, 2, 3, 1, 2, 4, 2, 1, 2, 3, 4, 5, 1, 1, 2, 3, 4, 5, 3, 1, 2, 3, 4, 3, 1, 2, 3, 4, 5, 1, 2, 3, 4, 1, 1, 1, 1, 4, 5, 1, 2, 3, 4, 5, 1, 2, 3, 4, 5, 1, 1, 1, 1, 2, 3, 4, 4, 2, 5, 2, 4, 2, 5, 1, 2, 3, 1, 3, 1, 2, 4, 1, 1, 1, 1, 4, 3, 1, 3, 5, 2, 1, 2, 4, 1, 2, 5, 4, 1, 2, 4, 1, 2, 1, 5, 5, 1, 2, 1, 2, 3, 4, 5, 1, 2, 5, 1, 3, 4, 5, 5, 4, 5, 3, 3, 4, 2, 1, 1, 2, 3, 4, 5, 2, 4, 1, 2, 4, 5, 1, 5, 2, 3, 2, 4, 4, 5, 2, 3, 1, 3, 4, 2, 1, 2, 4, 3, 4, 5, 1, 2, 4, 1, 5, 4, 1, 2, 4, 5, 2, 4, 5, 1, 2, 4, 5, 2, 1, 2, 4, 2, 5, 5, 4, 1, 2, 1, 5, 5, 5, 2, 2, 2, 4, 2, 4, 1, 1, 1, 2, 3, 4, 5, 2, 4, 1, 2, 4, 5, 1, 2, 3, 4, 5, 1, 2, 4, 5, 3, 5, 1, 3, 5, 1, 2, 3, 4, 5, 1, 2, 3, 4, 5, 2, 2], \"Freq\": [0.8859276606220029, 0.0962964848502177, 0.022119994507721168, 0.4829532134185788, 0.49401321067243936, 0.9757827396302198, 0.9925121026231013, 0.9775657839035394, 0.9104170411650547, 0.07586808676375456, 0.005174371111080382, 0.3415084933313053, 0.6519707599961282, 0.22374375113066663, 0.7706729205611851, 0.13551646420436758, 0.8554476802900703, 0.9741796981531602, 0.02610132330379164, 0.7830396991137492, 0.1892345939524894, 0.9652151157718291, 0.9916253557679701, 0.007822338734826245, 0.5671195582749028, 0.12515741975721992, 0.003911169367413122, 0.2933377025559842, 0.9723597242779706, 0.9300393991013292, 0.04308489229063665, 0.02674234693901585, 0.8786468733415473, 0.12228590505268958, 0.716645246519947, 0.19561036505507237, 0.0017782760459552035, 0.08535725020584976, 0.4256616917604965, 0.08614581857057667, 0.481403103776752, 0.9541514974696569, 0.934646931822818, 0.31284907245194693, 0.024780124550649263, 0.6628683317298678, 0.968683952146036, 0.2726419029639698, 0.11911539449882176, 0.25146583283084595, 0.16676155229835046, 0.1905846311981148, 0.1755233099000436, 0.44183453871390294, 0.13466874638882656, 0.0923010508957126, 0.15585259413538358, 0.9450995342682091, 0.9909010891769385, 0.00225717787967412, 0.006771533639022359, 0.9830147802540254, 0.9922207662055491, 0.9953630726530898, 0.953538053274668, 0.9660709558726833, 0.9588336207794736, 0.09871284680361496, 0.1233910585045187, 0.7650245627280159, 0.9693138045417579, 0.8828743646400713, 0.11175624868861662, 0.994960530938742, 0.9620205059051448, 0.9779451635587733, 0.07153903862471836, 0.46312114478107147, 0.34828216172560256, 0.1167215893350668, 0.24032333800982167, 0.16229628021442502, 0.012484329247263464, 0.25904983188071684, 0.3277136427406659, 0.6152521150919202, 0.3844020006007244, 0.9838518149892245, 0.987344251818621, 0.008511588377746732, 0.9861689221445044, 0.07731651274512759, 0.30926605098051035, 0.00773165127451276, 0.023194953823538277, 0.579873845588457, 0.9508216550751568, 0.9736127382173128, 0.20449603809463066, 0.794436123749444, 0.735812453895908, 0.11061232967062669, 0.0865661710465774, 0.036069237936073924, 0.03126000621126407, 0.9817281297840567, 0.28565485065143853, 0.18104884900443288, 0.5330882776241634, 0.9869964059467152, 0.018310201743471376, 0.8102264271486085, 0.16936936612711023, 0.14924543583875463, 0.09359459535650715, 0.1441862685221867, 0.18971877437129828, 0.4249700545917081, 0.9956862278623774, 0.9717440077009349, 0.8797872307977977, 0.4782204754106723, 0.011616691710380704, 0.46466766841522816, 0.04453065155645936, 0.9654121710163449, 0.983969285169467, 0.9425271608032944, 0.13495496362339823, 0.054981651846569654, 0.3648782349817804, 0.444851546758609, 0.9966440079248398, 0.990963910295849, 0.206057724654903, 0.4617219385785789, 0.32435012214197695, 0.007631767579811222, 0.066267277455029, 0.3644700260026595, 0.0331336387275145, 0.5367649473857349, 0.41476419922684354, 0.578486909447966, 0.11632716814861851, 0.2551692720679374, 0.6079032658089096, 0.015009957180466904, 0.011257467885350179, 0.7370645808577378, 0.25993098745224574, 0.10847951758916376, 0.6548948654456923, 0.23570858142830645, 0.11692642339927276, 0.3989254445386953, 0.4814617434087701, 0.9957709065289563, 0.010976983735775847, 0.9879285362198263, 0.20868055195776303, 0.593520011412339, 0.08130411115237521, 0.1138257556133253, 0.9472612025370531, 0.6556091298118552, 0.22570150370572062, 0.11105947007741808, 0.010747690652653363, 0.9698849981528572, 0.24765800767695847, 0.6236084745315792, 0.09743085368959643, 0.027035786625908956, 0.004335928043777851, 0.9729285839131503, 0.07395326390880055, 0.9244157988600069, 0.970632819422021, 0.9724668304977011, 0.9732619172421793, 0.9743311961114831, 0.9929104356779316, 0.9384433195026539, 0.6734954357598157, 0.10836280941960376, 0.03566370942923668, 0.02743362263787437, 0.15499996790399018, 0.8699885832648319, 0.12707698407239118, 0.9802451732010177, 0.2685099612645135, 0.2630855176026041, 0.1328988697167794, 0.08407887675959513, 0.25494885210974005, 0.16878841712493292, 0.8222899271596587, 0.003444661573978223, 0.004428850595114858, 0.0014762835317049525, 0.5069898957315107, 0.005739508253564271, 0.2869754126782136, 0.05739508253564271, 0.1434877063391068, 0.9838488144238844, 0.008410211347426807, 0.4910962697515296, 0.36944856990482045, 0.02462990466032136, 0.1063291006067532, 0.9971834699608494, 0.009039828983246708, 0.9853413591738911, 0.9758896716108916, 0.9735863140426289, 0.09309559516061838, 0.06206373010707892, 0.7820029993491944, 0.04654779758030919, 0.018619119032123675, 0.18815842916035697, 0.7490835576006664, 0.014200636163045809, 0.049702226570660334, 0.9817655276845489, 0.9639540424830159, 0.15627360215864547, 0.8334592115127759, 0.11737367983534973, 0.10060601128744262, 0.7713127532037267, 0.08768077655477576, 0.8592716102368024, 0.04384038827738788, 0.9641581805091587, 0.02892474541527476, 0.992457265078798, 0.941059957500166, 0.018634850643567645, 0.009317425321783823, 0.027952275965351464, 0.9961461882768312, 0.842639614562824, 0.06741116916502592, 0.08886017753571598, 0.31493097549900073, 0.18495946180100045, 0.34492440173700084, 0.15496603556300037, 0.9491127343457265, 0.04857663600982065, 0.05954462783289643, 0.9328658360487108, 0.9598456560008402, 0.1416790847622601, 0.7866917601272864, 0.07083954238113005, 0.09160457384644352, 0.7952942547577597, 0.09160457384644352, 0.020819221328737165, 0.9922312529391998, 0.006758218071236656, 0.885326567332002, 0.05406574456989325, 0.0608239626411299, 0.9809991252112735, 0.4062644537635998, 0.36854934974971515, 0.0019850054744149827, 0.12240867092225727, 0.10057361070369246, 0.7222118699003353, 0.20762349492320503, 0.0019868277026144025, 0.06258507263235367, 0.005960483107843207, 0.982510912170896, 0.007500083299014473, 0.007500083299014473, 0.3294772546035853, 0.6071795120551786, 0.007060226884362543, 0.007060226884362543, 0.049421588190537796, 0.22083676172742842, 0.44167352345485683, 0.1359737266531328, 0.11282926254196125, 0.0887204457594909, 0.3219143885803396, 0.005029912321567806, 0.5985595662665689, 0.07544868482351709, 0.9856377797610721, 0.11312337619799362, 0.851118735203952, 0.032320964627998175, 0.31518720161453784, 0.14684858257040967, 0.2614621104302416, 0.2578804376846219, 0.014326690982478992, 0.013097053437062033, 0.017922283650716464, 0.1778441993032634, 0.7906484364373764, 0.9969513013412514, 0.9599256556181975, 0.9961222264091303, 0.9570623175084993, 0.9963978414371938, 0.9600396080735376, 0.9605423397079036, 0.9296707046506132, 0.8644980587370881, 0.973902455706173, 0.9849271077320897, 0.8982749860398096, 0.9640787230613608, 0.9721257433037209, 0.9893969066770715, 0.9630217538982799, 0.28299772352007607, 0.11201993222669678, 0.04127050134667776, 0.12381150404003327, 0.4362881570934506, 0.13600478202334057, 0.8005113680165751, 0.003651135087874915, 0.05841816140599864, 0.002738351315906186, 0.9284614579678526, 0.07051606009882425, 0.9001157487167074, 0.04286265470079559, 0.055109127472451475, 0.9868852890099707, 0.9773518789788009, 0.9818541147636408, 0.9392750740809499, 0.05857394671328863, 0.9212572865524236, 0.0694643936708255, 0.004555042207922984, 0.004555042207922984, 0.01082918622140475, 0.39280411839459045, 0.17917380839051494, 0.4174159052614195, 0.0021648854103152753, 0.9728995033956848, 0.024246716595531084, 0.0004329770820630551, 0.9891299823392568, 0.005261329693293919, 0.9720268979938218, 0.9728207371675167, 0.018282353838928733, 0.40134119617838787, 0.5328000261630659, 0.007835294502398029, 0.04004706079003437, 0.9954856362870143, 0.9667300321693787, 0.9917206155674276, 0.057085191546563024, 0.17125557463968907, 0.7674786863482362, 0.002165815251407745, 0.19275755737528932, 0.8056832735236812, 0.9836488754867284, 0.34913547215557855, 0.2119751080944584, 0.1153393970513965, 0.2680861661194621, 0.0529937770236146, 0.9808526925597566, 0.18091265077849045, 0.3128899124119794, 0.4952854537706214, 0.010380234061060927, 0.001482890580151561, 0.9857879242583187, 0.1569612516754594, 0.27304717739376794, 0.5477293678258219, 0.022890182536004496, 0.970672869856108, 0.08103637957775932, 0.17968936341155325, 0.6976175285389715, 0.017616604256034635, 0.024663245958448488, 0.20161355246464135, 0.583208301979263, 0.18344237391632603, 0.03115059179711197, 0.9835795679135537, 0.9876022294411183, 0.9908138572357874, 0.41204433012559527, 0.5265010884938162, 0.053413153905169757, 0.45662590702222516, 0.2709812759705664, 0.004491402364153034, 0.18115322868750572, 0.08833091316167634, 0.2696452699310673, 0.19953749974898982, 0.3909856414000476, 0.140215540364155, 0.952076267485405, 0.9986131064397811, 0.9960794820867228, 0.986086626010359, 0.9482611768470126, 0.003150369358295723, 0.037804432299548676, 0.012601477433182892, 0.9954075026725846, 0.9209622114111854, 0.07367697691289482, 0.11936088955110362, 0.859398404767946, 0.9433736595291885, 0.041016246066486454, 0.9951630588216597, 0.001829343858128051, 0.001829343858128051, 0.039351519916594205, 0.9542743579774096, 0.9762675483070843, 0.008452532885775622, 0.016905065771551243, 0.9943510172037352, 0.9870802686546959, 0.9746151506208047, 0.4099515203529929, 0.5856450290757043, 0.9753631080231907, 0.09720401236443568, 0.89913711437103, 0.9993613083476018, 0.9867547324305583, 0.41473952287749477, 0.013378694286370799, 0.5708242895518207, 0.02666786810372799, 0.02666786810372799, 0.9333753836304797, 0.98895177393852, 0.9218040554939502, 0.07693971549450303, 0.0007362652200430912, 0.9949343135514143, 0.9356325588100007, 0.019387974240730858, 0.9790926991569083, 0.9743198968457755, 0.9984629968912725, 0.0008190836725933327, 0.9401562649106107, 0.05603580386884434, 0.01192759067727318, 0.6619812825886615, 0.32204494828637587, 0.007268120436346578, 0.9884643793431347, 0.97243741139073, 0.04149133200020794, 0.20449299342959626, 0.1600379948579449, 0.5927333142886848, 0.8770662464874756, 0.6486534246249146, 0.34749290604906136, 0.983972860287868, 0.9870544563659351, 0.9622404006580282, 0.961525947885902, 0.9888687084194682, 0.09291886724549026, 0.23745932740514175, 0.005162159291416125, 0.15486477874248375, 0.5110537698501963, 0.9249871390543661, 0.05138817439190923, 0.11574563749807644, 0.05986843318866023, 0.4470176344753297, 0.3711842857696934, 0.010984326545394447, 0.9776050625401058, 0.9737930506290787, 0.946027251953628, 0.9762273349046695, 0.9716644336467857, 0.9798153229886737, 0.9559387531632175, 0.10073096089103818, 0.8965055519302398, 0.06864250730264052, 0.9304873212135714, 0.9673941659613411, 0.9961347013679014, 0.4415339012366263, 0.17884917518445623, 0.3744654605424552, 0.013964487720718703, 0.8378692632431222, 0.13964487720718702, 0.8101272103472628, 0.18930108181481264, 0.0020354955033850823, 0.2821572159762837, 0.7053930399407092, 0.9594355159519468, 0.8498852066946776, 0.040794489921344525, 0.0951871431498039, 0.01699770413389355, 0.9455412359735816, 0.018910824719471635, 0.018910824719471635, 0.0029185396668227983, 0.8317838050444974, 0.1488455230079627, 0.014592698334113991, 0.9613336591783049, 0.8309255386064841, 0.04748145934894195, 0.11395550243746067, 0.96488589018938, 0.027568168291125142, 0.9988670684917925, 0.9745363293646933, 0.281900089498549, 0.7168316561534532, 0.21470261855822398, 0.7729294268096063, 0.9892983597687593, 0.9394583577726197, 0.9940471340751508, 0.9638432726213205, 0.9603435708822052, 0.03405473655610657, 0.9496935038888197, 0.02922133858119445, 0.982885278804831, 0.9941353480090764, 0.113999325084897, 0.19316552306051993, 0.2089987626556445, 0.14249915635612126, 0.33883132733566607, 0.9794326921427979, 0.9764345797429355, 0.12095374147136091, 0.8657741494792149, 0.0063659863932295216, 0.0063659863932295216, 0.09556518502696636, 0.48069288068564076, 0.10894431093074164, 0.306764243936562, 0.0076452148021573085, 0.24896772667232975, 0.08298924222410992, 0.13278278755857587, 0.5394300744567144, 0.9873307977213054, 0.952333939811434, 0.8629979951278106, 0.005076458794869474, 0.13198792866660633, 0.019784165698155966, 0.8007876592110749, 0.006594721899385323, 0.09232610659139452, 0.0810208690495911, 0.5853343488430793, 0.14026084128903776, 0.028992464400527357, 0.24290983686928327, 0.003134320475732687, 0.9714596711975906, 0.9466566280548468], \"Term\": [\"accessory\", \"accessory\", \"always\", \"always\", \"always\", \"apart\", \"arch\", \"arm\", \"astronaut\", \"astronaut\", \"awesome\", \"awesome\", \"awesome\", \"bag\", \"bag\", \"baggy\", \"baggy\", \"based\", \"beautiful\", \"beautiful\", \"beautiful\", \"begging\", \"belt\", \"best\", \"best\", \"best\", \"best\", \"best\", \"beware\", \"big\", \"big\", \"big\", \"bigger\", \"bigger\", \"bit\", \"bit\", \"bit\", \"bit\", \"black\", \"black\", \"black\", \"blister\", \"boat\", \"boot\", \"boot\", \"boot\", \"bostonian\", \"bought\", \"bought\", \"bought\", \"bought\", \"bought\", \"buy\", \"buy\", \"buy\", \"buy\", \"buy\", \"california\", \"carhartt\", \"carhartt\", \"carhartt\", \"carpenter\", \"cell\", \"chain\", \"charcoal\", \"charm\", \"check\", \"checked\", \"checked\", \"checked\", \"checkerboards\", \"christmas\", \"christmas\", \"classic\", \"closet\", \"clot\", \"color\", \"color\", \"color\", \"color\", \"come\", \"come\", \"come\", \"come\", \"come\", \"comfortable\", \"comfortable\", \"completely\", \"compliment\", \"compliment\", \"condition\", \"cool\", \"cool\", \"cool\", \"cool\", \"cool\", \"copy\", \"correctly\", \"costume\", \"costume\", \"could\", \"could\", \"could\", \"could\", \"could\", \"custom\", \"cut\", \"cut\", \"cut\", \"daily\", \"daughter\", \"daughter\", \"daughter\", \"day\", \"day\", \"day\", \"day\", \"day\", \"delivery\", \"denis\", \"discontinued\", \"dress\", \"dress\", \"dress\", \"dress\", \"dry\", \"duty\", \"earlier\", \"easy\", \"easy\", \"easy\", \"easy\", \"em\", \"ended\", \"enough\", \"enough\", \"enough\", \"enough\", \"ever\", \"ever\", \"ever\", \"ever\", \"everyday\", \"everyday\", \"exactly\", \"exactly\", \"exactly\", \"exactly\", \"exactly\", \"excellent\", \"excellent\", \"expected\", \"expected\", \"expected\", \"far\", \"far\", \"far\", \"fast\", \"favorite\", \"favorite\", \"feel\", \"feel\", \"feel\", \"feel\", \"finding\", \"fine\", \"fine\", \"fine\", \"fine\", \"finger\", \"fit\", \"fit\", \"fit\", \"fit\", \"fit\", \"fix\", \"flapped\", \"flapped\", \"flattering\", \"forever\", \"formal\", \"fro\", \"fun\", \"gatsby\", \"get\", \"get\", \"get\", \"get\", \"get\", \"gift\", \"gift\", \"girlfriend\", \"go\", \"go\", \"go\", \"go\", \"go\", \"good\", \"good\", \"good\", \"good\", \"good\", \"got\", \"got\", \"got\", \"got\", \"got\", \"granddaughter\", \"great\", \"great\", \"great\", \"great\", \"great\", \"half\", \"halloween\", \"halloween\", \"hammer\", \"handy\", \"happy\", \"happy\", \"happy\", \"happy\", \"happy\", \"hat\", \"hat\", \"hat\", \"hat\", \"headband\", \"heavier\", \"heel\", \"heel\", \"held\", \"held\", \"held\", \"helmet\", \"helmet\", \"helmet\", \"hip\", \"hip\", \"holding\", \"however\", \"however\", \"however\", \"however\", \"insert\", \"jean\", \"jean\", \"jean\", \"keep\", \"keep\", \"keep\", \"keep\", \"larger\", \"larger\", \"lasted\", \"lasted\", \"lazy\", \"leg\", \"leg\", \"leg\", \"length\", \"length\", \"length\", \"length\", \"levi\", \"light\", \"light\", \"light\", \"light\", \"lightweight\", \"like\", \"like\", \"like\", \"like\", \"like\", \"little\", \"little\", \"little\", \"little\", \"little\", \"ll\", \"ll\", \"ll\", \"long\", \"long\", \"long\", \"long\", \"long\", \"look\", \"look\", \"look\", \"look\", \"look\", \"looked\", \"looked\", \"looked\", \"looked\", \"loop\", \"loose\", \"loose\", \"loose\", \"lot\", \"lot\", \"lot\", \"lot\", \"lot\", \"love\", \"love\", \"love\", \"love\", \"loved\", \"lovely\", \"maybe\", \"measurement\", \"medium\", \"missed\", \"mostly\", \"mother\", \"nail\", \"name\", \"narrow\", \"natural\", \"navy\", \"nd\", \"necklace\", \"nephew\", \"new\", \"new\", \"new\", \"new\", \"new\", \"nice\", \"nice\", \"nice\", \"nice\", \"nice\", \"normally\", \"normally\", \"ok\", \"ok\", \"ok\", \"okay\", \"older\", \"on\", \"order\", \"order\", \"ordered\", \"ordered\", \"ordered\", \"ordered\", \"pair\", \"pair\", \"pair\", \"pair\", \"part\", \"part\", \"part\", \"part\", \"party\", \"party\", \"patch\", \"peasant\", \"perfect\", \"perfect\", \"perfect\", \"perfect\", \"perfect\", \"phone\", \"pictured\", \"plastic\", \"pleased\", \"pleased\", \"pleased\", \"pocket\", \"pocket\", \"pocket\", \"prefer\", \"pretty\", \"pretty\", \"pretty\", \"pretty\", \"pretty\", \"previous\", \"price\", \"price\", \"price\", \"price\", \"price\", \"process\", \"product\", \"product\", \"product\", \"product\", \"promised\", \"purchase\", \"purchase\", \"purchase\", \"purchase\", \"purchase\", \"quality\", \"quality\", \"quality\", \"quality\", \"ran\", \"read\", \"reading\", \"real\", \"real\", \"real\", \"really\", \"really\", \"really\", \"really\", \"really\", \"recommend\", \"recommend\", \"recommend\", \"recommend\", \"relaxed\", \"return\", \"returned\", \"returning\", \"review\", \"review\", \"review\", \"review\", \"ring\", \"robe\", \"robe\", \"rough\", \"rough\", \"rugged\", \"rugged\", \"run\", \"run\", \"run\", \"satisfied\", \"satisfied\", \"seizing\", \"seizing\", \"seizing\", \"send\", \"sent\", \"set\", \"shape\", \"shape\", \"shed\", \"shipping\", \"shipping\", \"shoe\", \"shrink\", \"side\", \"side\", \"side\", \"simon\", \"simon\", \"simon\", \"six\", \"size\", \"size\", \"size\", \"skirt\", \"slack\", \"slip\", \"slip\", \"slips\", \"small\", \"small\", \"smaller\", \"smaller\", \"sock\", \"sock\", \"sock\", \"soft\", \"soft\", \"sole\", \"son\", \"son\", \"son\", \"son\", \"speak\", \"speaker\", \"speaker\", \"sterling\", \"stocking\", \"stone\", \"stud\", \"stuff\", \"style\", \"style\", \"style\", \"style\", \"style\", \"sun\", \"sun\", \"super\", \"super\", \"super\", \"super\", \"support\", \"support\", \"tailor\", \"taking\", \"taxed\", \"tear\", \"teenager\", \"tennis\", \"thank\", \"thank\", \"thanks\", \"thanks\", \"theme\", \"thigh\", \"thin\", \"thin\", \"thin\", \"tie\", \"tie\", \"tie\", \"tight\", \"tight\", \"tight\", \"toe\", \"toe\", \"tool\", \"top\", \"top\", \"top\", \"top\", \"tough\", \"tough\", \"tough\", \"unable\", \"unable\", \"unable\", \"unable\", \"upper\", \"usually\", \"usually\", \"usually\", \"value\", \"value\", \"van\", \"w\", \"waist\", \"waist\", \"walk\", \"walk\", \"walking\", \"war\", \"warm\", \"warmer\", \"wash\", \"wash\", \"washed\", \"washed\", \"waste\", \"watch\", \"wearing\", \"wearing\", \"wearing\", \"wearing\", \"wearing\", \"weather\", \"wedding\", \"weight\", \"weight\", \"weight\", \"weight\", \"well\", \"well\", \"well\", \"well\", \"well\", \"wide\", \"wide\", \"wide\", \"wide\", \"wig\", \"wolf\", \"woman\", \"woman\", \"woman\", \"work\", \"work\", \"work\", \"work\", \"work\", \"would\", \"would\", \"would\", \"would\", \"would\", \"wrangled\", \"yard\"]}, \"R\": 30, \"lambda.step\": 0.01, \"plot.opts\": {\"xlab\": \"PC1\", \"ylab\": \"PC2\"}, \"topic.order\": [2, 4, 3, 1, 5]};\n",
              "\n",
              "function LDAvis_load_lib(url, callback){\n",
              "  var s = document.createElement('script');\n",
              "  s.src = url;\n",
              "  s.async = true;\n",
              "  s.onreadystatechange = s.onload = callback;\n",
              "  s.onerror = function(){console.warn(\"failed to load library \" + url);};\n",
              "  document.getElementsByTagName(\"head\")[0].appendChild(s);\n",
              "}\n",
              "\n",
              "if(typeof(LDAvis) !== \"undefined\"){\n",
              "   // already loaded: just create the visualization\n",
              "   !function(LDAvis){\n",
              "       new LDAvis(\"#\" + \"ldavis_el6461399726711432967004086849\", ldavis_el6461399726711432967004086849_data);\n",
              "   }(LDAvis);\n",
              "}else if(typeof define === \"function\" && define.amd){\n",
              "   // require.js is available: use it to load d3/LDAvis\n",
              "   require.config({paths: {d3: \"https://d3js.org/d3.v5\"}});\n",
              "   require([\"d3\"], function(d3){\n",
              "      window.d3 = d3;\n",
              "      LDAvis_load_lib(\"https://cdn.jsdelivr.net/gh/bmabey/pyLDAvis@3.4.0/pyLDAvis/js/ldavis.v3.0.0.js\", function(){\n",
              "        new LDAvis(\"#\" + \"ldavis_el6461399726711432967004086849\", ldavis_el6461399726711432967004086849_data);\n",
              "      });\n",
              "    });\n",
              "}else{\n",
              "    // require.js not available: dynamically load d3 & LDAvis\n",
              "    LDAvis_load_lib(\"https://d3js.org/d3.v5.js\", function(){\n",
              "         LDAvis_load_lib(\"https://cdn.jsdelivr.net/gh/bmabey/pyLDAvis@3.4.0/pyLDAvis/js/ldavis.v3.0.0.js\", function(){\n",
              "                 new LDAvis(\"#\" + \"ldavis_el6461399726711432967004086849\", ldavis_el6461399726711432967004086849_data);\n",
              "            })\n",
              "         });\n",
              "}\n",
              "</script>"
            ]
          },
          "metadata": {},
          "execution_count": 36
        }
      ]
    },
    {
      "cell_type": "code",
      "source": [
        "coherence_model_lda = CoherenceModel(model=lda_model, texts=tokenized_text, dictionary=dictionary, coherence='c_v')\n",
        "coherence_lda = coherence_model_lda.get_coherence()\n",
        "\n",
        "print(f'Coherence Score: {coherence_lda}')"
      ],
      "metadata": {
        "colab": {
          "base_uri": "https://localhost:8080/"
        },
        "id": "B72aYlJszN8e",
        "outputId": "c27c073d-6812-4082-e4dd-9b893514eaf4"
      },
      "execution_count": null,
      "outputs": [
        {
          "output_type": "stream",
          "name": "stderr",
          "text": [
            "/usr/local/lib/python3.10/dist-packages/ipykernel/ipkernel.py:283: DeprecationWarning: `should_run_async` will not call `transform_cell` automatically in the future. Please pass the result to `transformed_cell` argument and any exception that happen during thetransform in `preprocessing_exc_tuple` in IPython 7.17 and above.\n",
            "  and should_run_async(code)\n"
          ]
        },
        {
          "output_type": "stream",
          "name": "stdout",
          "text": [
            "Coherence Score: 0.5455967853473476\n"
          ]
        }
      ]
    }
  ]
}